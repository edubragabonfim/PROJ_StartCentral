{
 "cells": [
  {
   "cell_type": "code",
   "execution_count": 1,
   "id": "658e942b",
   "metadata": {},
   "outputs": [],
   "source": [
    "import pandas as pd"
   ]
  },
  {
   "cell_type": "code",
   "execution_count": null,
   "id": "2eba0954",
   "metadata": {},
   "outputs": [
    {
     "name": "stdout",
     "output_type": "stream",
     "text": [
      "['Python Leet Code Exercices' 1]\n",
      "['LangChain Playground' 2]\n",
      "['Projeto Start Central' 3]\n"
     ]
    }
   ],
   "source": [
    "df = pd.read_excel('projects.xlsx')\n",
    "\n",
    "for i in df[['name', 'ID']].values:\n",
    "    print(i[])"
   ]
  },
  {
   "cell_type": "code",
   "execution_count": 27,
   "id": "4dec32a2",
   "metadata": {},
   "outputs": [
    {
     "name": "stdout",
     "output_type": "stream",
     "text": [
      "1. Python Leet Code Exercices\n",
      "2. LangChain Playground\n",
      "3. Projeto Start Central\n"
     ]
    }
   ],
   "source": [
    "for i in df[['ID', 'name']].values:\n",
    "    print(f'{i[0]}. {i[1]}')"
   ]
  },
  {
   "cell_type": "code",
   "execution_count": 40,
   "id": "e49d96c3",
   "metadata": {},
   "outputs": [],
   "source": [
    "ROOT_FOLDER = 'C:\\\\Code\\\\Python'"
   ]
  },
  {
   "cell_type": "code",
   "execution_count": 50,
   "id": "faae534e",
   "metadata": {},
   "outputs": [
    {
     "data": {
      "text/plain": [
       "'PROJ_StartCentral'"
      ]
     },
     "execution_count": 50,
     "metadata": {},
     "output_type": "execute_result"
    }
   ],
   "source": [
    "df[['ID', 'folder']].query('ID == 3').folder.values[0]"
   ]
  }
 ],
 "metadata": {
  "kernelspec": {
   "display_name": ".venv",
   "language": "python",
   "name": "python3"
  },
  "language_info": {
   "codemirror_mode": {
    "name": "ipython",
    "version": 3
   },
   "file_extension": ".py",
   "mimetype": "text/x-python",
   "name": "python",
   "nbconvert_exporter": "python",
   "pygments_lexer": "ipython3",
   "version": "3.13.1"
  }
 },
 "nbformat": 4,
 "nbformat_minor": 5
}
